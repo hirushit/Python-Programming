{
  "nbformat": 4,
  "nbformat_minor": 0,
  "metadata": {
    "colab": {
      "name": "python.ipynb",
      "provenance": [],
      "collapsed_sections": [],
      "authorship_tag": "ABX9TyOg4eMBOA69xiUrxuw7MdVJ",
      "include_colab_link": true
    },
    "kernelspec": {
      "name": "python3",
      "display_name": "Python 3"
    },
    "language_info": {
      "name": "python"
    }
  },
  "cells": [
    {
      "cell_type": "markdown",
      "metadata": {
        "id": "view-in-github",
        "colab_type": "text"
      },
      "source": [
        "<a href=\"https://colab.research.google.com/github/hirushit/Python-Programming/blob/main/python.ipynb\" target=\"_parent\"><img src=\"https://colab.research.google.com/assets/colab-badge.svg\" alt=\"Open In Colab\"/></a>"
      ]
    },
    {
      "cell_type": "code",
      "metadata": {
        "colab": {
          "base_uri": "https://localhost:8080/"
        },
        "id": "oTFWl727tehp",
        "outputId": "96312786-525b-4adf-f2a9-82b20a4f5075"
      },
      "source": [
        "num1 = int(input('Enter first number: '))  \n",
        "num2 = int(input('Enter second number: '))  \n",
        "  \n",
        "sum = num1 + num2  \n",
        "\n",
        "sub = num1 - num2  \n",
        "\n",
        "mul = num1 * num2  \n",
        "\n",
        "div = num1 / num2  \n",
        "\n",
        "print('Sum = ',sum)  \n",
        "\n",
        "print('Subration = ',sub) \n",
        "\n",
        "print('Multiplication = ',mul)  \n",
        " \n",
        "print('Division = ',div)"
      ],
      "execution_count": 3,
      "outputs": [
        {
          "output_type": "stream",
          "text": [
            "Enter first number: 12\n",
            "Enter second number: 6\n",
            "Sum =  18\n",
            "Subration =  6\n",
            "Multiplication =  72\n",
            "Division =  2.0\n"
          ],
          "name": "stdout"
        }
      ]
    },
    {
      "cell_type": "code",
      "metadata": {
        "colab": {
          "base_uri": "https://localhost:8080/"
        },
        "id": "iS1tFqXDul0n",
        "outputId": "2e3cacf9-b80f-429d-e408-419eda539da5"
      },
      "source": [
        "x = int(input('Enter value of x: '))\n",
        "y = int(input('Enter value of y: '))\n",
        "\n",
        "temp = x\n",
        "x = y\n",
        "y = temp\n",
        "\n",
        "print('The value of x after swapping: ', x)\n",
        "print('The value of y after swapping: ', y)"
      ],
      "execution_count": 2,
      "outputs": [
        {
          "output_type": "stream",
          "text": [
            "Enter value of x: 5\n",
            "Enter value of y: 4\n",
            "The value of x after swapping:  4\n",
            "The value of y after swapping:  5\n"
          ],
          "name": "stdout"
        }
      ]
    }
  ]
}